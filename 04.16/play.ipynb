{
 "cells": [
  {
   "cell_type": "code",
   "execution_count": null,
   "metadata": {
    "collapsed": false
   },
   "outputs": [],
   "source": [
    "from generate import *\n",
    "from tree_search import *\n",
    "from sklearn.externals import joblib"
   ]
  },
  {
   "cell_type": "code",
   "execution_count": null,
   "metadata": {
    "collapsed": true
   },
   "outputs": [],
   "source": [
    "class Network:\n",
    "    def __init__(self, model):\n",
    "        self.model = model\n",
    "        self.board = np.zeros((15, 15))\n",
    "    def make_move(self, *args):\n",
    "        action = legal_nn_move(self.board, self.model)\n",
    "        self.board[action] = -1.0 - 2*self.board.sum()\n",
    "        return action\n",
    "    def pass_move(self, action):\n",
    "        self.board[action] = -1.0 - 2*self.board.sum()"
   ]
  },
  {
   "cell_type": "code",
   "execution_count": null,
   "metadata": {
    "collapsed": true
   },
   "outputs": [],
   "source": [
    "class Meatbag:\n",
    "    def __init__(self):\n",
    "        self.board = np.zeros((15, 15))\n",
    "    def make_move(self, *args):\n",
    "        while True:\n",
    "            # many more possible problems\n",
    "            raw = input()\n",
    "            width = ord(raw[0].lower())\n",
    "            if width > ord('i'):\n",
    "                width -= 1\n",
    "            width -= ord('a')\n",
    "            height = int(raw[1:]) - 1\n",
    "            if round(self.board[height, width]) == 0:\n",
    "                break\n",
    "            print('Wrong action')\n",
    "        self.board[height, width] = -1.0 - 2*self.board.sum()\n",
    "        return (height, width)\n",
    "    \n",
    "    def pass_move(self, action):\n",
    "        self.board[action] = -1.0 - 2*self.board.sum()"
   ]
  },
  {
   "cell_type": "code",
   "execution_count": null,
   "metadata": {
    "collapsed": true
   },
   "outputs": [],
   "source": [
    "sl_policy = load_model('current_sgd_policy_model')\n",
    "rl_policy = load_model('rl_policy_72%.keras')\n",
    "value_policy = load_model('rl_value_model')\n",
    "rollout_policy = joblib.load('logreg_3.pkl')"
   ]
  },
  {
   "cell_type": "code",
   "execution_count": null,
   "metadata": {
    "collapsed": false
   },
   "outputs": [],
   "source": [
    "board = np.zeros((15, 15))\n",
    "last_action = (0, 0)\n",
    "turn = 0\n",
    "\n",
    "players = [Network(sl_policy),\n",
    "           MonteCarloTreeSearch(black_starts=False, board, sl_policy, rollout_policy, value_policy, 0.5)]\n",
    "# players = list(reversed(players))\n",
    "\n",
    "while get_rollout_result(board, last_action) is None:\n",
    "    show_board(board)\n",
    "    last_action = players[turn % 2].make_move(500)\n",
    "    players[(turn + 1) % 2].pass_move(last_action)\n",
    "    board[last_action] = -1.0 + 2 * (turn % 2)\n",
    "    turn += 1\n",
    "show_board(board)\n",
    "res = get_rollout_result(board, last_action)\n",
    "if round(res) == 1:\n",
    "    print('White won!')\n",
    "elif round(res) == -1:\n",
    "    print('Black won!')\n",
    "else:\n",
    "    print('Draw!')"
   ]
  },
  {
   "cell_type": "code",
   "execution_count": null,
   "metadata": {
    "collapsed": true
   },
   "outputs": [],
   "source": []
  }
 ],
 "metadata": {
  "anaconda-cloud": {},
  "kernelspec": {
   "display_name": "Python [conda root]",
   "language": "python",
   "name": "conda-root-py"
  },
  "language_info": {
   "codemirror_mode": {
    "name": "ipython",
    "version": 3
   },
   "file_extension": ".py",
   "mimetype": "text/x-python",
   "name": "python",
   "nbconvert_exporter": "python",
   "pygments_lexer": "ipython3",
   "version": "3.5.2"
  }
 },
 "nbformat": 4,
 "nbformat_minor": 1
}
